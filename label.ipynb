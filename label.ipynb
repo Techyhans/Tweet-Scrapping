{
 "cells": [
  {
   "cell_type": "markdown",
   "id": "143b7702",
   "metadata": {},
   "source": [
    "### Pre-trained Flair Model"
   ]
  },
  {
   "cell_type": "code",
   "execution_count": null,
   "id": "7fede927",
   "metadata": {},
   "outputs": [],
   "source": [
    "import pandas as pd\n",
    "df_filtered = pd.read_csv(\"tweet_filtered.csv\")\n",
    "df_filtered = df_filtered.drop(columns=\"Unnamed: 0\")\n",
    "df_filtered.reset_index(drop=True, inplace=True)"
   ]
  },
  {
   "cell_type": "code",
   "execution_count": null,
   "id": "7b5a03d0",
   "metadata": {},
   "outputs": [],
   "source": [
    "# Single test\n",
    "from flair.models import TextClassifier\n",
    "from flair.data import Sentence\n",
    "\n",
    "classifier = TextClassifier.load('en-sentiment')\n",
    "text = Sentence(df_filtered[\"content\"][5])\n",
    "classifier.predict(text)\n",
    "text.labels"
   ]
  },
  {
   "cell_type": "code",
   "execution_count": null,
   "id": "f6128b35",
   "metadata": {},
   "outputs": [],
   "source": [
    "from flair.models import TextClassifier\n",
    "from flair.data import Sentence\n",
    "\n",
    "classifier = TextClassifier.load('en-sentiment')\n",
    "df_filtered[\"sentiment\"] = 0\n",
    "\n",
    "for i in range(len(df_filtered)):\n",
    "    text = Sentence(df_filtered[\"content\"][i])\n",
    "    classifier.predict(text)\n",
    "    df_filtered[\"sentiment\"][i] = text.labels"
   ]
  },
  {
   "cell_type": "code",
   "execution_count": null,
   "id": "4206813b",
   "metadata": {},
   "outputs": [],
   "source": [
    "df_filtered.to_csv(\"tweet_labeled.csv\")"
   ]
  },
  {
   "cell_type": "markdown",
   "id": "371ed6ef",
   "metadata": {},
   "source": [
    "### Custom Trained Model "
   ]
  },
  {
   "cell_type": "markdown",
   "id": "a09ede51",
   "metadata": {},
   "source": [
    "After train the custom model using `flair_sentiment_model.ipynb'."
   ]
  },
  {
   "cell_type": "code",
   "execution_count": null,
   "id": "36e0a8f3",
   "metadata": {},
   "outputs": [],
   "source": [
    "import pandas as pd\n",
    "df_filtered = pd.read_csv(\"tweet_filtered.csv\")"
   ]
  },
  {
   "cell_type": "code",
   "execution_count": null,
   "id": "b5393d85",
   "metadata": {},
   "outputs": [],
   "source": [
    "df_filtered = df_filtered.drop(columns=\"Unnamed: 0\")\n",
    "df_filtered.reset_index(drop=True, inplace=True)"
   ]
  },
  {
   "cell_type": "code",
   "execution_count": null,
   "id": "6af193e4",
   "metadata": {},
   "outputs": [],
   "source": [
    "df_filtered"
   ]
  },
  {
   "cell_type": "code",
   "execution_count": null,
   "id": "97833112",
   "metadata": {},
   "outputs": [],
   "source": [
    "df_filtered[\"sentiment\"] = 0"
   ]
  },
  {
   "cell_type": "code",
   "execution_count": null,
   "id": "a3b931e6",
   "metadata": {},
   "outputs": [],
   "source": [
    "from flair.data import Sentence\n",
    "\n",
    "custom_classifier = TextClassifier.load('model-sentiment/final-model.pt')\n",
    "\n",
    "for i in range(len(df_filtered)):\n",
    "    text = Sentence(df_filtered[\"content\"][i])\n",
    "    custom_classifier.predict(text)\n",
    "    df_filtered[\"sentiment\"][i] = text.labels"
   ]
  },
  {
   "cell_type": "code",
   "execution_count": null,
   "id": "7171fb0f",
   "metadata": {},
   "outputs": [],
   "source": [
    "df_filtered"
   ]
  },
  {
   "cell_type": "code",
   "execution_count": null,
   "id": "44ad83a8",
   "metadata": {},
   "outputs": [],
   "source": [
    "df_filtered.to_csv(\"tweet_labeled2.csv\")"
   ]
  }
 ],
 "metadata": {
  "kernelspec": {
   "display_name": "Python 3",
   "language": "python",
   "name": "python3"
  },
  "language_info": {
   "codemirror_mode": {
    "name": "ipython",
    "version": 3
   },
   "file_extension": ".py",
   "mimetype": "text/x-python",
   "name": "python",
   "nbconvert_exporter": "python",
   "pygments_lexer": "ipython3",
   "version": "3.8.10"
  }
 },
 "nbformat": 4,
 "nbformat_minor": 5
}
