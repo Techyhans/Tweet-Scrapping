{
 "cells": [
  {
   "cell_type": "markdown",
   "id": "240ee03c",
   "metadata": {},
   "source": [
    "### Filter Ads"
   ]
  },
  {
   "cell_type": "code",
   "execution_count": 1,
   "id": "6b10cc14",
   "metadata": {},
   "outputs": [],
   "source": [
    "import os\n",
    "import pandas as pd\n",
    "\n",
    "df = pd.read_csv(\"tweet_data.csv\")\n",
    "df = df.drop(columns=\"Unnamed: 0\")"
   ]
  },
  {
   "cell_type": "code",
   "execution_count": 2,
   "id": "e7288509",
   "metadata": {},
   "outputs": [],
   "source": [
    "import re\n",
    "\n",
    "allowed_chars = ' AaBbCcDdEeFfGgHhIiJjKkLlMmNnOoPpQqRrSsTtUuVvWwXxYyZz0123456789~`!@#$%^&*()-=_+[]{}|;:\",./<>?'\n",
    "punct = '!?,.@#'\n",
    "maxlen = 280\n",
    "\n",
    "def preprocess(text):\n",
    "    return ''.join(['' + char + ' ' if char in punct else char for char in [char for char in re.sub(r'http\\S+', 'http', text, flags=re.MULTILINE) if char in allowed_chars]])[:maxlen]"
   ]
  },
  {
   "cell_type": "code",
   "execution_count": 3,
   "id": "b7fdc655",
   "metadata": {},
   "outputs": [],
   "source": [
    "df['content'] = df['content'].astype(str).apply(preprocess)"
   ]
  },
  {
   "cell_type": "code",
   "execution_count": 4,
   "id": "a0735dde",
   "metadata": {},
   "outputs": [
    {
     "name": "stdout",
     "output_type": "stream",
     "text": [
      "275898\n",
      "65145\n"
     ]
    }
   ],
   "source": [
    "print(f\"{len(df)}\")\n",
    "find = [\"http\", \"sales\", \"check us\", \"take a look\", \"viral\"]\n",
    "df_filtered = df[~df[\"content\"].str.contains('|'.join(find))]\n",
    "print(f\"{len(df_filtered)}\")"
   ]
  },
  {
   "cell_type": "code",
   "execution_count": 5,
   "id": "ac1c87e7",
   "metadata": {},
   "outputs": [],
   "source": [
    "df_filtered.to_csv(\"tweet_filtered.csv\")"
   ]
  },
  {
   "cell_type": "markdown",
   "id": "5ee3ef95",
   "metadata": {},
   "source": [
    "### Remove duplicate"
   ]
  },
  {
   "cell_type": "code",
   "execution_count": 6,
   "id": "eb115514",
   "metadata": {
    "scrolled": true
   },
   "outputs": [
    {
     "name": "stdout",
     "output_type": "stream",
     "text": [
      "65145\n",
      "59547\n"
     ]
    }
   ],
   "source": [
    "import pandas as pd\n",
    "df_filtered = pd.read_csv(\"tweet_filtered.csv\")\n",
    "df_filtered = df_filtered.drop(columns=\"Unnamed: 0\")\n",
    "df_filtered.reset_index(drop=True, inplace=True)\n",
    "\n",
    "print(f\"{len(df_filtered)}\")\n",
    "df_filtered = df_filtered.drop_duplicates(subset=\"content\")\n",
    "print(f\"{len(df_filtered)}\")"
   ]
  },
  {
   "cell_type": "code",
   "execution_count": 7,
   "id": "3e76d66f",
   "metadata": {},
   "outputs": [],
   "source": [
    "df_filtered.to_csv(\"tweet_filtered.csv\")"
   ]
  },
  {
   "cell_type": "markdown",
   "id": "c3475420",
   "metadata": {},
   "source": [
    "### Check Data Amount in Each Month"
   ]
  },
  {
   "cell_type": "code",
   "execution_count": 8,
   "id": "c8f93eeb",
   "metadata": {},
   "outputs": [],
   "source": [
    "import pandas as pd\n",
    "df_filtered = pd.read_csv(\"tweet_filtered.csv\")\n",
    "df_filtered = df_filtered.drop(columns=\"Unnamed: 0\")"
   ]
  },
  {
   "cell_type": "code",
   "execution_count": 9,
   "id": "467479c7",
   "metadata": {},
   "outputs": [],
   "source": [
    "df_filtered[\"date_group\"] = df_filtered[\"date\"].str.split(\" \").str[0].str[:7]"
   ]
  },
  {
   "cell_type": "code",
   "execution_count": 10,
   "id": "f6f4a208",
   "metadata": {},
   "outputs": [
    {
     "data": {
      "text/plain": [
       "array(['2020-03', '2020-04', '2020-05', '2020-06', '2020-07', '2020-08',\n",
       "       '2020-09', '2020-10', '2020-11', '2020-12', '2021-01', '2021-02',\n",
       "       '2021-03', '2021-04', '2021-05', '2021-06'], dtype=object)"
      ]
     },
     "execution_count": 10,
     "metadata": {},
     "output_type": "execute_result"
    }
   ],
   "source": [
    "df_filtered[\"date_group\"].unique()"
   ]
  },
  {
   "cell_type": "code",
   "execution_count": 11,
   "id": "0242bd8d",
   "metadata": {},
   "outputs": [
    {
     "data": {
      "text/html": [
       "<div>\n",
       "<style scoped>\n",
       "    .dataframe tbody tr th:only-of-type {\n",
       "        vertical-align: middle;\n",
       "    }\n",
       "\n",
       "    .dataframe tbody tr th {\n",
       "        vertical-align: top;\n",
       "    }\n",
       "\n",
       "    .dataframe thead th {\n",
       "        text-align: right;\n",
       "    }\n",
       "</style>\n",
       "<table border=\"1\" class=\"dataframe\">\n",
       "  <thead>\n",
       "    <tr style=\"text-align: right;\">\n",
       "      <th></th>\n",
       "      <th>id</th>\n",
       "    </tr>\n",
       "    <tr>\n",
       "      <th>date_group</th>\n",
       "      <th></th>\n",
       "    </tr>\n",
       "  </thead>\n",
       "  <tbody>\n",
       "    <tr>\n",
       "      <th>2020-03</th>\n",
       "      <td>4547</td>\n",
       "    </tr>\n",
       "    <tr>\n",
       "      <th>2020-04</th>\n",
       "      <td>3827</td>\n",
       "    </tr>\n",
       "    <tr>\n",
       "      <th>2020-05</th>\n",
       "      <td>3672</td>\n",
       "    </tr>\n",
       "    <tr>\n",
       "      <th>2020-06</th>\n",
       "      <td>3630</td>\n",
       "    </tr>\n",
       "    <tr>\n",
       "      <th>2020-07</th>\n",
       "      <td>3519</td>\n",
       "    </tr>\n",
       "    <tr>\n",
       "      <th>2020-08</th>\n",
       "      <td>3684</td>\n",
       "    </tr>\n",
       "    <tr>\n",
       "      <th>2020-09</th>\n",
       "      <td>3767</td>\n",
       "    </tr>\n",
       "    <tr>\n",
       "      <th>2020-10</th>\n",
       "      <td>3624</td>\n",
       "    </tr>\n",
       "    <tr>\n",
       "      <th>2020-11</th>\n",
       "      <td>3984</td>\n",
       "    </tr>\n",
       "    <tr>\n",
       "      <th>2020-12</th>\n",
       "      <td>4146</td>\n",
       "    </tr>\n",
       "    <tr>\n",
       "      <th>2021-01</th>\n",
       "      <td>3967</td>\n",
       "    </tr>\n",
       "    <tr>\n",
       "      <th>2021-02</th>\n",
       "      <td>3451</td>\n",
       "    </tr>\n",
       "    <tr>\n",
       "      <th>2021-03</th>\n",
       "      <td>3454</td>\n",
       "    </tr>\n",
       "    <tr>\n",
       "      <th>2021-04</th>\n",
       "      <td>3778</td>\n",
       "    </tr>\n",
       "    <tr>\n",
       "      <th>2021-05</th>\n",
       "      <td>3408</td>\n",
       "    </tr>\n",
       "    <tr>\n",
       "      <th>2021-06</th>\n",
       "      <td>3089</td>\n",
       "    </tr>\n",
       "  </tbody>\n",
       "</table>\n",
       "</div>"
      ],
      "text/plain": [
       "              id\n",
       "date_group      \n",
       "2020-03     4547\n",
       "2020-04     3827\n",
       "2020-05     3672\n",
       "2020-06     3630\n",
       "2020-07     3519\n",
       "2020-08     3684\n",
       "2020-09     3767\n",
       "2020-10     3624\n",
       "2020-11     3984\n",
       "2020-12     4146\n",
       "2021-01     3967\n",
       "2021-02     3451\n",
       "2021-03     3454\n",
       "2021-04     3778\n",
       "2021-05     3408\n",
       "2021-06     3089"
      ]
     },
     "execution_count": 11,
     "metadata": {},
     "output_type": "execute_result"
    }
   ],
   "source": [
    "df_filtered[[\"id\", \"date_group\"]].groupby(\"date_group\").count()"
   ]
  },
  {
   "cell_type": "code",
   "execution_count": 12,
   "id": "6baf4a66",
   "metadata": {},
   "outputs": [
    {
     "name": "stdout",
     "output_type": "stream",
     "text": [
      "59547\n",
      "48000\n"
     ]
    }
   ],
   "source": [
    "print(f\"{len(df_filtered)}\")\n",
    "df_filtered = df_filtered.groupby(\"date_group\").apply(lambda x: x.sample(n=3000)).reset_index(drop = True)\n",
    "print(f\"{len(df_filtered)}\")"
   ]
  },
  {
   "cell_type": "code",
   "execution_count": 13,
   "id": "e75708ec",
   "metadata": {},
   "outputs": [],
   "source": [
    "df_filtered.to_csv(\"tweet_filtered.csv\")"
   ]
  },
  {
   "cell_type": "code",
   "execution_count": null,
   "id": "71a0ad81",
   "metadata": {},
   "outputs": [],
   "source": []
  }
 ],
 "metadata": {
  "kernelspec": {
   "display_name": "Python [conda env:scrapping] *",
   "language": "python",
   "name": "conda-env-scrapping-py"
  },
  "language_info": {
   "codemirror_mode": {
    "name": "ipython",
    "version": 3
   },
   "file_extension": ".py",
   "mimetype": "text/x-python",
   "name": "python",
   "nbconvert_exporter": "python",
   "pygments_lexer": "ipython3",
   "version": "3.8.10"
  }
 },
 "nbformat": 4,
 "nbformat_minor": 5
}
